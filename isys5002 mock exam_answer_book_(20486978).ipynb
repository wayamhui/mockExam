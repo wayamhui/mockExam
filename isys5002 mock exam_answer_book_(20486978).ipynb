{
  "nbformat": 4,
  "nbformat_minor": 0,
  "metadata": {
    "colab": {
      "name": "isys5002_answer_book (20486978).ipynb",
      "provenance": [],
      "collapsed_sections": [],
      "toc_visible": true,
      "include_colab_link": true
    },
    "kernelspec": {
      "name": "python3",
      "display_name": "Python 3"
    },
    "language_info": {
      "name": "python"
    }
  },
  "cells": [
    {
      "cell_type": "markdown",
      "metadata": {
        "id": "view-in-github",
        "colab_type": "text"
      },
      "source": [
        "<a href=\"https://colab.research.google.com/github/wayamhui/mockExam/blob/main/isys5002%20mock%20exam_answer_book_(20486978).ipynb\" target=\"_parent\"><img src=\"https://colab.research.google.com/assets/colab-badge.svg\" alt=\"Open In Colab\"/></a>"
      ]
    },
    {
      "cell_type": "markdown",
      "metadata": {
        "id": "Z0PClycD86Nw"
      },
      "source": [
        "### School of Management\n",
        "\n",
        "# EXTENDED LEARNING PORTFOLIO\n",
        "\n",
        "Semester 1 2021\n",
        "\n",
        "### ISYS5002 Introduction to Programming\n",
        "\n",
        "**This the notebook to be use to provide answers to the programming questions in the expented learning portfolio.**\n",
        "\n",
        "If you need to create additional notebooks, please cross reference the other notebook in thsi document."
      ]
    },
    {
      "cell_type": "markdown",
      "metadata": {
        "id": "W7pl-MaP64bv"
      },
      "source": [
        "**1.** DO NOT ANSWER HERE. Your answer to Question 1 is to be completed in a Word Document.\n",
        "\n",
        "\n",
        "\n",
        "\n",
        "\n",
        "\n",
        "**2.** A comment is an explanation or annotation in the source code of a computer program. Well commented functions are helpful to other programmers to understand the code better.  The following method has no comments.  Using the answer notebook, add some comments that explain the purpose and actions of the code in the following method"
      ]
    },
    {
      "cell_type": "code",
      "metadata": {
        "id": "BFkSRiFF6w_r"
      },
      "source": [
        "def get_int():\n",
        "  while True:\n",
        "      try:\n",
        "          x = int(input(\"Please enter a number: \"))\n",
        "          break\n",
        "      except ValueError:\n",
        "          print(\"That was no valid number.  Try again...\")\n",
        "  return x\n"
      ],
      "execution_count": null,
      "outputs": []
    },
    {
      "cell_type": "markdown",
      "metadata": {
        "id": "WGgC6VoH8nkK"
      },
      "source": [
        "**3.** In computer programming there are three kinds of errors: syntax errors, runtime errors, and logic errors. The code fragment below is meant to determines whether a person qualifies for a loan. To qualify for the loan, the person must earn a salary of at least $40,000 and must have been employed at his or her current job for at least 2 years.  The code fragment contains both syntax and logic errors. In the answer notebook Identify and correct at least five errors in the following code. "
      ]
    },
    {
      "cell_type": "code",
      "metadata": {
        "id": "R3fOBNAA8hJq"
      },
      "source": [
        "def qualify_for_loan(salary, years) \n",
        "MINIMUM_SALARY = 40000.00; \n",
        "MINIMUM_YEARS_ON_JOB = 2; \n",
        "\n",
        "if (salary >= MINIMUM_SALARY): \n",
        "    if (yearsOnJob >= MINIMUM_YEARS_ON_JOB): \n",
        "               print(\"You qualify for the loan.\") \n",
        "       else\n",
        "          print(\"You qualify for the loan.\") \n",
        "   else\n",
        "      print(\"Minimum salary requirement not met\")"
      ],
      "execution_count": null,
      "outputs": []
    },
    {
      "cell_type": "markdown",
      "metadata": {
        "id": "bGA6A_ZjACI-"
      },
      "source": [
        "**4.** Write a program that reads monthly rainfall data from the file rainfall.csv and prints out the maximum, minimum, and average rainfall as well as plot the rainfall for each month."
      ]
    },
    {
      "cell_type": "code",
      "metadata": {
        "id": "vm2ntannAFVT",
        "colab": {
          "base_uri": "https://localhost:8080/"
        },
        "outputId": "2e471132-3799-41c8-d61a-4a1f3aaca5f5"
      },
      "source": [
        "\n",
        "# file path: /content/rainfall.csv\n",
        "\n",
        "csvname = '/content/rainfall.csv'\n",
        "\n",
        "\n",
        "import csv\n",
        "file = open(csvname, newline='')\n",
        "reader = csv.reader(file)\n",
        "\n",
        "header = next(reader) \n",
        "print (header)\n",
        "\n",
        "data=[]\n",
        "for row in reader:  #please remember row\n",
        "  Year = int ((row[0]))\n",
        "  \n",
        "  sum = 0\n",
        "  count = 0\n",
        "  valid_value = []  \n",
        "\n",
        "  if (row[1]) == '':\n",
        "    Jan = '' \n",
        "  else:\n",
        "    Jan = float(row[1])    \n",
        "    count = count + 1\n",
        "    sum = sum + Jan\n",
        "    valid_value.append (Jan)\n",
        "\n",
        "  if (row[2]) == '':\n",
        "    Feb = '' \n",
        "  else:\n",
        "    Feb = float(row[2])\n",
        "    count = count + 1\n",
        "    sum = sum + Feb\n",
        "    valid_value.append (Feb)\n",
        "\n",
        "  if (row[3]) == '':\n",
        "    Mar= '' \n",
        "  else:\n",
        "    Mar = float(row[3])\n",
        "    count = count + 1\n",
        "    sum = sum + Mar\n",
        "    valid_value.append (Mar)\n",
        "\n",
        "  if (row[4]) == '':\n",
        "    Apr= '' \n",
        "  else:\n",
        "    Apr = float(row[4])\n",
        "    count = count + 1\n",
        "    sum = sum + Apr\n",
        "    valid_value.append (Apr)\n",
        "  if (row[5]) == '':\n",
        "    May= '' \n",
        "  else:\n",
        "    May = float(row[5])\n",
        "    count = count + 1\n",
        "    sum = sum + May\n",
        "    valid_value.append (May)\n",
        "\n",
        "  if (row[6]) == '':\n",
        "    Jun= '' \n",
        "  else:\n",
        "    Jun = float(row[6])\n",
        "    count = count + 1\n",
        "    sum = sum + Jun    \n",
        "    valid_value.append (Jun)\n",
        "  if (row[7]) == '':\n",
        "    Jul= '' \n",
        "  else:\n",
        "    Jul = float(row[7])\n",
        "    count = count + 1\n",
        "    sum = sum + Jul    \n",
        "    valid_value.append (Jul)\n",
        "\n",
        "  if (row[8]) == '':\n",
        "    Aug= '' \n",
        "  else:\n",
        "    Aug = float(row[8])\n",
        "    count = count + 1\n",
        "    sum = sum + Aug    \n",
        "    valid_value.append (Aug)\n",
        "\n",
        "  if (row[9]) == '':\n",
        "    Sep= '' \n",
        "  else:\n",
        "    Sep = float(row[9])\n",
        "    count = count + 1\n",
        "    sum = sum + Sep    \n",
        "    valid_value.append (Sep)\n",
        "    \n",
        "  if (row[10]) == '':\n",
        "    Oct= '' \n",
        "  else:\n",
        "    Oct = float(row[10])\n",
        "    count = count + 1\n",
        "    sum = sum + Oct    \n",
        "    valid_value.append (Oct)\n",
        "\n",
        "  if (row[11]) == '':\n",
        "    Nov= '' \n",
        "  else:\n",
        "    Nov = float(row[11])\n",
        "    count = count + 1\n",
        "    sum = sum + Nov    \n",
        "    valid_value.append (Nov)\n",
        "\n",
        "  if (row[12]) == '':\n",
        "    Dec= '' \n",
        "  else:\n",
        "    Dec = float(row[12])\n",
        "    count = count + 1\n",
        "    sum = sum + Dec \n",
        "    valid_value.append (Dec)   \n",
        "\n",
        "  Avg = sum / count   \n",
        "  mi = min (valid_value)\n",
        "  ma = max (valid_value)\n",
        "\n",
        "  print (\"min: \", mi )\n",
        "  print (\"max: \", ma )\n",
        "\n",
        "  data.append([Year, Avg, mi, ma, Jan,  Feb,  Mar,  Apr,  May,  Jun,  Jul,  Aug,  Sep,  Oct,  Nov,  Dec])  # remember use square bracket\n",
        "\n",
        "#print (len(data))\n",
        "\n",
        "#print (header)\n",
        "print (\"first cell record: \", data[0][0])\n",
        "#print( type (data) )\n",
        "#print (data[1])\n",
        "\n",
        "year_plot = []\n",
        "#print (type(year_plot))\n",
        "avg_plot = []\n",
        "mi_plot = []\n",
        "ma_plot = []\n",
        "for i in range(0,len(data)):\n",
        "  year_plot.append ( data[i][0] )\n",
        "  avg_plot.append ( data[i][1] )  \n",
        "  mi_plot.append ( data[i][2] )  \n",
        "  ma_plot.append ( data[i][3] )  \n"
      ],
      "execution_count": null,
      "outputs": [
        {
          "output_type": "stream",
          "name": "stdout",
          "text": [
            "['\\ufeffYear', 'Jan', 'Feb', 'Mar', 'Apr', 'May', 'Jun', 'Jul', 'Aug', 'Sep', 'Oct', 'Nov', 'Dec', 'Annual']\n",
            "min:  2.4\n",
            "max:  158.4\n",
            "min:  0.0\n",
            "max:  203.4\n",
            "min:  0.0\n",
            "max:  278.6\n",
            "min:  0.0\n",
            "max:  221.4\n",
            "min:  0.0\n",
            "max:  137.6\n",
            "min:  0.0\n",
            "max:  153.2\n",
            "min:  0.0\n",
            "max:  167.4\n",
            "min:  0.0\n",
            "max:  231.0\n",
            "min:  2.4\n",
            "max:  182.6\n",
            "min:  2.6\n",
            "max:  183.8\n",
            "min:  1.4\n",
            "max:  173.4\n",
            "min:  0.0\n",
            "max:  175.6\n",
            "min:  0.0\n",
            "max:  251.0\n",
            "min:  4.6\n",
            "max:  124.8\n",
            "min:  3.4\n",
            "max:  179.4\n",
            "min:  0.0\n",
            "max:  179.4\n",
            "min:  0.0\n",
            "max:  156.2\n",
            "min:  0.0\n",
            "max:  142.0\n",
            "min:  0.0\n",
            "max:  171.4\n",
            "min:  0.2\n",
            "max:  140.8\n",
            "min:  0.8\n",
            "max:  167.4\n",
            "min:  0.0\n",
            "max:  152.6\n",
            "min:  13.6\n",
            "max:  113.0\n",
            "min:  0.6\n",
            "max:  139.6\n",
            "min:  0.0\n",
            "max:  172.6\n",
            "min:  0.2\n",
            "max:  186.0\n",
            "min:  0.0\n",
            "max:  212.0\n",
            "min:  3.0\n",
            "max:  115.4\n",
            "first cell record:  1993\n"
          ]
        }
      ]
    },
    {
      "cell_type": "code",
      "metadata": {
        "id": "ThuANBpLhtjD"
      },
      "source": [
        "above test success!"
      ],
      "execution_count": null,
      "outputs": []
    },
    {
      "cell_type": "code",
      "metadata": {
        "colab": {
          "base_uri": "https://localhost:8080/",
          "height": 312
        },
        "id": "hYyT8KqMOmGM",
        "outputId": "8301e7a4-9b34-412e-db2c-8da07107514b"
      },
      "source": [
        "'''\n",
        "import pandas as pd\n",
        "data = pd.read_csv(csvname)\n",
        "data.head(1)\n",
        "data.tail()\n",
        "\n",
        "print (data.head(2))\n",
        "#print (type(data.head(1)))\n",
        "#print (type(data))\n",
        "\n",
        "#help (data.head)\n",
        "'''\n",
        "# plot\n",
        "import matplotlib.pyplot as plt\n",
        "\n",
        "\n",
        "\n",
        "plt.plot(year_plot, avg_plot)\n",
        "# plt.plot(data[\"Year\"],data[\"Annual\"])   #prior version: data[\"Adj Close\"].plot()\n",
        "plt.plot(year_plot, mi_plot)\n",
        "plt.plot(year_plot, ma_plot)\n",
        "\n",
        "plt.xlabel(\"Year\")\n",
        "\n",
        "plt.ylabel(\"Min   Avearge                        Max\")\n",
        "plt.title(\"Monthlh Rainfall (mm)\")\n",
        "\n",
        "\n",
        "\n"
      ],
      "execution_count": null,
      "outputs": [
        {
          "output_type": "execute_result",
          "data": {
            "text/plain": [
              "Text(0.5, 1.0, 'Monthlh Rainfall (mm)')"
            ]
          },
          "metadata": {},
          "execution_count": 173
        },
        {
          "output_type": "display_data",
          "data": {
            "image/png": "[encoded data removed]",
            "text/plain": [
              "<Figure size 432x288 with 1 Axes>"
            ]
          },
          "metadata": {
            "needs_background": "light"
          }
        }
      ]
    },
    {
      "cell_type": "code",
      "metadata": {
        "colab": {
          "base_uri": "https://localhost:8080/",
          "height": 312
        },
        "id": "YpTWV_gEsonA",
        "outputId": "a38ec65e-3f66-41b7-8a93-0f52eba174bc"
      },
      "source": [
        "plt.plot(year_plot, mi_plot)\n",
        "plt.xlabel(\"Year\")\n",
        "plt.ylabel(\"mm\")\n",
        "plt.title(\"Min. Monthly Rainfall\")"
      ],
      "execution_count": null,
      "outputs": [
        {
          "output_type": "execute_result",
          "data": {
            "text/plain": [
              "Text(0.5, 1.0, 'Min. Monthly Rainfall')"
            ]
          },
          "metadata": {},
          "execution_count": 148
        },
        {
          "output_type": "display_data",
          "data": {
            "image/png": "[encoded data removed]",
            "text/plain": [
              "<Figure size 432x288 with 1 Axes>"
            ]
          },
          "metadata": {
            "needs_background": "light"
          }
        }
      ]
    },
    {
      "cell_type": "code",
      "metadata": {
        "colab": {
          "base_uri": "https://localhost:8080/",
          "height": 312
        },
        "id": "XZen2Udssrbp",
        "outputId": "987c88c3-8e0c-431e-a4f7-14c20def77ce"
      },
      "source": [
        "plt.plot(year_plot, ma_plot)\n",
        "plt.xlabel(\"Year\")\n",
        "plt.ylabel(\"mm\")\n",
        "plt.title(\"Max. Monthly Rainfall\")"
      ],
      "execution_count": null,
      "outputs": [
        {
          "output_type": "execute_result",
          "data": {
            "text/plain": [
              "Text(0.5, 1.0, 'Max. Monthly Rainfall')"
            ]
          },
          "metadata": {},
          "execution_count": 147
        },
        {
          "output_type": "display_data",
          "data": {
            "image/png": "[encoded data removed]",
            "text/plain": [
              "<Figure size 432x288 with 1 Axes>"
            ]
          },
          "metadata": {
            "needs_background": "light"
          }
        }
      ]
    },
    {
      "cell_type": "markdown",
      "metadata": {
        "id": "1A424xz4AQnb"
      },
      "source": [
        "**5.** DO NOT ANSWER HERE. Yout answer to Question 5 is to be completed in a Word Document."
      ]
    },
    {
      "cell_type": "code",
      "metadata": {
        "id": "TqUhFmzuAbhE"
      },
      "source": [
        ""
      ],
      "execution_count": null,
      "outputs": []
    }
  ]
}